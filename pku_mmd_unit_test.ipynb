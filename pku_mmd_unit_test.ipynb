{
 "cells": [
  {
   "cell_type": "code",
   "execution_count": 98,
   "id": "4dc60c6e",
   "metadata": {},
   "outputs": [
    {
     "name": "stdout",
     "output_type": "stream",
     "text": [
      "lib import completed\n"
     ]
    }
   ],
   "source": [
    "import sys\n",
    "import os\n",
    "import json\n",
    "import numpy as np\n",
    "import torch\n",
    "import matplotlib.pyplot as plt\n",
    "from pathlib import Path\n",
    "from mmengine.config import Config\n",
    "from opentad.datasets import build_dataset, build_dataloader\n",
    "from opentad.datasets.base import SlidingWindowDataset, PaddingDataset, filter_same_annotation\n",
    "from opentad.datasets.pku import PkuSlidingDataset, PkuPaddingDataset\n",
    "\n",
    "sys.path.append(str(Path.cwd()))\n",
    "print(\"lib import completed\")"
   ]
  },
  {
   "cell_type": "code",
   "execution_count": 99,
   "id": "29a33d49",
   "metadata": {},
   "outputs": [
    {
     "name": "stdout",
     "output_type": "stream",
     "text": [
      "config file load\n",
      "path : {config_path}\n",
      "keys : {list(cfg.keys())}\n"
     ]
    }
   ],
   "source": [
    "config_path = \"configs/adatad/pku_mmd/e2e_pku_mmd_videomae_s_768x1_160_adapter copy.py\"\n",
    "cfg = Config.fromfile(config_path)\n",
    "print(\"config file load\")\n",
    "print(\"path : {config_path}\")\n",
    "print(\"keys : {list(cfg.keys())}\")\n"
   ]
  },
  {
   "cell_type": "code",
   "execution_count": 101,
   "id": "e421e2e7",
   "metadata": {},
   "outputs": [
    {
     "name": "stdout",
     "output_type": "stream",
     "text": [
      "dataset_cfg keys: ['train', 'val', 'test']\n",
      "train_cfg settings\n",
      "type : PkuPaddingDataset\n",
      "ann_file : data/PKU-MMD/pku_train.json\n",
      "data path : Unknown\n",
      "pipelines : 13\n"
     ]
    }
   ],
   "source": [
    "if hasattr(cfg, \"dataset\"):\n",
    "    dataset_cfg = cfg.dataset\n",
    "    print(f\"dataset_cfg keys: {list(dataset_cfg.keys())}\")\n",
    "\n",
    "    if hasattr(dataset_cfg, 'train'):\n",
    "        train_cfg = dataset_cfg.train\n",
    "        print(f\"train_cfg settings\")\n",
    "        print(f\"type : {train_cfg.get('type', 'Unknown')}\")\n",
    "        print(f\"ann_file : {train_cfg.get('ann_file', 'Unknown')}\")\n",
    "        print(f\"data path : {train_cfg.get('data_prefix', 'Unknown')}\")\n",
    "        print(f\"pipelines : {len(train_cfg.get('pipeline', []))}\")\n",
    "else:\n",
    "    print(\"dataset_cfg x\")"
   ]
  },
  {
   "cell_type": "code",
   "execution_count": 102,
   "id": "c58c237f",
   "metadata": {},
   "outputs": [
    {
     "name": "stdout",
     "output_type": "stream",
     "text": [
      "training subset: 831 videos\n"
     ]
    }
   ],
   "source": [
    "cfg = Config.fromfile(config_path)\n",
    "\n",
    "train_dataset = build_dataset(cfg.dataset.train)\n",
    "\n",
    "train_loader = build_dataloader(\n",
    "    train_dataset,\n",
    "    rank=0,\n",
    "    world_size=1,\n",
    "    batch_size=2,\n",
    "    num_workers=0,\n",
    "    shuffle=True,\n",
    "    drop_last=False\n",
    ")"
   ]
  },
  {
   "cell_type": "code",
   "execution_count": 126,
   "id": "65d52386",
   "metadata": {},
   "outputs": [
    {
     "name": "stdout",
     "output_type": "stream",
     "text": [
      "train dataset sample keys : ['inputs', 'masks', 'gt_segments', 'gt_labels', 'metas']\n",
      "inputs\n",
      "type: <class 'torch.Tensor'>\n",
      "shape: torch.Size([1, 3, 512, 160, 160])\n",
      "data type: torch.uint8\n",
      "masks\n",
      "type: <class 'torch.Tensor'>\n",
      "shape: torch.Size([512])\n",
      "data type: torch.bool\n",
      "gt_segments\n",
      "type: <class 'torch.Tensor'>\n",
      "shape: torch.Size([2, 2])\n",
      "data type: torch.float32\n",
      "gt_labels\n",
      "type: <class 'torch.Tensor'>\n",
      "shape: torch.Size([2])\n",
      "data type: torch.int32\n",
      "metas\n",
      "type: <class 'dict'>\n",
      "no dataset\n"
     ]
    }
   ],
   "source": [
    "if 'train_dataset' in locals():\n",
    "    sample = train_dataset[0]\n",
    "    print(f\"train dataset sample keys : {list(sample.keys())}\")\n",
    "\n",
    "    for key, value in sample.items():\n",
    "        print(f\"{key}\")\n",
    "        print(f\"type: {type(value)}\")\n",
    "\n",
    "        if hasattr(value, 'shape'):\n",
    "            print(f\"shape: {value.shape}\")\n",
    "            print(f\"data type: {value.dtype}\")\n",
    "            \n",
    "    else:\n",
    "        print(f\"no dataset\")"
   ]
  },
  {
   "cell_type": "code",
   "execution_count": 104,
   "id": "971d3c16",
   "metadata": {},
   "outputs": [
    {
     "name": "stdout",
     "output_type": "stream",
     "text": [
      "validation subset: 111 videos, truncated as 1958 windows.\n",
      "testing subset: 132 videos, truncated as 2370 windows.\n",
      " build success\n",
      " batch keys: ['inputs', 'masks', 'gt_segments', 'gt_labels', 'metas']\n"
     ]
    }
   ],
   "source": [
    "cfg = Config.fromfile(config_path)\n",
    "\n",
    "val_dataset = build_dataset(cfg.dataset.val)\n",
    "\n",
    "val_loader = build_dataloader(\n",
    "    val_dataset,\n",
    "    rank=0,\n",
    "    world_size=1,\n",
    "    batch_size=2,\n",
    "    num_workers=0,\n",
    "    shuffle=True,\n",
    "    drop_last=False\n",
    ")\n",
    "\n",
    "test_dataset = build_dataset(cfg.dataset.test)\n",
    "\n",
    "test_loader = build_dataloader(\n",
    "    test_dataset,\n",
    "    rank=0,\n",
    "    world_size=1,\n",
    "    batch_size=2,\n",
    "    num_workers=0,\n",
    "    shuffle=True,\n",
    "    drop_last=False\n",
    ")\n",
    "try:\n",
    "    adatad_loader = build_dataloader(\n",
    "        train_dataset,\n",
    "        rank=0,\n",
    "        world_size=1,\n",
    "        batch_size=2,\n",
    "        num_workers=0,\n",
    "        shuffle=True,\n",
    "        drop_last=False\n",
    "    )\n",
    "    for batch_idx, data_dict in enumerate(adatad_loader):\n",
    "        if batch_idx == 0:\n",
    "            print(f\" build success\")\n",
    "            print(f\" batch keys: {list(data_dict.keys())}\")\n",
    "            break\n",
    "except Exception as e:\n",
    "    print(f\"Error : {e}\")\n",
    "    import traceback\n",
    "    traceback.print_exc()\n",
    "        "
   ]
  },
  {
   "cell_type": "code",
   "execution_count": null,
   "id": "764f71d5",
   "metadata": {},
   "outputs": [
    {
     "name": "stdout",
     "output_type": "stream",
     "text": [
      "first sample metadata:\n",
      "metas: {'video_name': '0006-M', 'data_path': 'F:/dataset/pku-mmd/rgb', 'fps': 30.0, 'duration': 1392, 'snippet_stride': 1, 'window_size': 512, 'offset_frames': 0}\n"
     ]
    }
   ],
   "source": [
    "first_sample = train_dataset[0]\n",
    "print(f\"first sample metadata:\")\n",
    "for key, value in first_sample.items():\n",
    "    if key not in ['inputs', 'masks', 'gt_segments', 'gt_labels']:\n",
    "        print(f\"{key}: {value}\")\n",
    "\n",
    "if 'video_name' in first_sample:\n",
    "    print(f\"video name: {first_sample['video_name']}\")\n",
    "\n",
    "if 'windows_start_frame' in first_sample:\n",
    "    print(f\"windows start frame: {first_sample['windows_start_frame']}\")\n",
    "\n",
    "\n",
    "\n",
    "if 'duration' in first_sample:\n",
    "    print(f\"duration: {first_sample['duration']}\")\n",
    "\n",
    "if 'fps' in first_sample:\n",
    "    print(f\"fps: {first_sample['fps']}\")\n",
    "\n",
    "if 'snippet_stride' in first_sample:\n",
    "    print(f\"snippet stride: {first_sample['snippet_stride']}\")\n",
    "    "
   ]
  },
  {
   "cell_type": "code",
   "execution_count": null,
   "id": "db1b46c9",
   "metadata": {},
   "outputs": [],
   "source": [
    "def visualize_pku_batch_sample(data_dict, sample_idx: int = 0, title: str = \"sample\"):\n",
    "    \"\"\"PKU-MMD 배치에서 영상·GT·메타데이터를 간단히 시각화한다.\"\"\"\n",
    "    # ────────────────────── 1. 입력 텐서 처리 ──────────────────────\n",
    "    if \"inputs\" not in data_dict:\n",
    "        print(\"no inputs in batch\");  return\n",
    "\n",
    "    inputs = data_dict[\"inputs\"].cpu()          # (B, …)\n",
    "    sample_inputs = inputs[sample_idx]          # (C,N,T,H,W) or (C,T,H,W)\n",
    "\n",
    "    # (C, N, T, H, W) ⇒ (C, T, H, W) 로 변환\n",
    "    if sample_inputs.dim() == 5:                # (C, N, T, H, W)\n",
    "        sample_inputs = sample_inputs[:, 0]     # 첫 chunk 사용\n",
    "    elif sample_inputs.dim() != 4:              # 예외 처리\n",
    "        raise ValueError(f\"Unexpected shape: {sample_inputs.shape}\")\n",
    "\n",
    "    C, T, H, W = sample_inputs.shape\n",
    "    frame_idx = np.linspace(0, T - 1, 8, dtype=int)\n",
    "\n",
    "    # ────────────────────── 2. 프레임 시각화 ──────────────────────\n",
    "    fig, ax = plt.subplots(2, 4, figsize=(16, 8))\n",
    "    fig.suptitle(f\"{title} (sample {sample_idx})\", fontsize=16)\n",
    "\n",
    "    for k, fi in enumerate(frame_idx):\n",
    "        r, c = divmod(k, 4)\n",
    "        frame = sample_inputs[:, fi].permute(1, 2, 0).numpy()        # HWC\n",
    "        frame = (frame - frame.min()) / (frame.max() - frame.min() + 1e-6)\n",
    "        ax[r, c].imshow((frame * 255).astype(\"uint8\"))\n",
    "        ax[r, c].set_title(f\"Frame {fi}\")\n",
    "        ax[r, c].axis(\"off\")\n",
    "\n",
    "    plt.tight_layout();  plt.show()\n",
    "\n",
    "    # ────────────────────── 3. GT 구간·레이블 출력 ─────────────────\n",
    "    if {\"gt_segments\", \"gt_labels\"} <= data_dict.keys():\n",
    "        segs, lbls = data_dict[\"gt_segments\"], data_dict[\"gt_labels\"]\n",
    "        print(f\"\\n[pku annotation info] sample {sample_idx}\")\n",
    "        if sample_idx < len(segs):\n",
    "            for i, (seg, lab) in enumerate(zip(segs[sample_idx], lbls[sample_idx])):\n",
    "                print(f\"  #{i+1:02d}  label={lab.item():2d}  segment={seg.tolist()}\")\n",
    "        else:\n",
    "            print(\"  no annotation\")\n",
    "\n",
    "    # ────────────────────── 4. 메타데이터 출력 ─────────────────────\n",
    "    if \"metas\" in data_dict and sample_idx < len(data_dict[\"metas\"]):\n",
    "        meta = data_dict[\"metas\"][sample_idx]\n",
    "        print(f\"\\n[pku metadata] sample {sample_idx}\")\n",
    "        for k, v in meta.items():\n",
    "            print(f\"  {k}: {v}\")"
   ]
  },
  {
   "cell_type": "code",
   "execution_count": 138,
   "id": "6904976e",
   "metadata": {},
   "outputs": [
    {
     "ename": "RuntimeError",
     "evalue": "permute(sparse_coo): number of dimensions in the tensor input does not match the length of the desired ordering of dimensions i.e. input.dim() = 4 is not equal to len(dims) = 3",
     "output_type": "error",
     "traceback": [
      "\u001b[1;31m---------------------------------------------------------------------------\u001b[0m",
      "\u001b[1;31mRuntimeError\u001b[0m                              Traceback (most recent call last)",
      "Cell \u001b[1;32mIn[138], line 2\u001b[0m\n\u001b[0;32m      1\u001b[0m \u001b[38;5;28;01mif\u001b[39;00m \u001b[38;5;124m'\u001b[39m\u001b[38;5;124mdata_dict\u001b[39m\u001b[38;5;124m'\u001b[39m \u001b[38;5;129;01min\u001b[39;00m \u001b[38;5;28mlocals\u001b[39m():\n\u001b[1;32m----> 2\u001b[0m     \u001b[43mvisualize_pku_batch_sample\u001b[49m\u001b[43m(\u001b[49m\u001b[43mdata_dict\u001b[49m\u001b[43m,\u001b[49m\u001b[43m \u001b[49m\u001b[43msample_idx\u001b[49m\u001b[38;5;241;43m=\u001b[39;49m\u001b[38;5;241;43m0\u001b[39;49m\u001b[43m,\u001b[49m\u001b[43m \u001b[49m\u001b[43mtitle\u001b[49m\u001b[38;5;241;43m=\u001b[39;49m\u001b[38;5;124;43m\"\u001b[39;49m\u001b[38;5;124;43msample 0\u001b[39;49m\u001b[38;5;124;43m\"\u001b[39;49m\u001b[43m)\u001b[49m\n\u001b[0;32m      4\u001b[0m     \u001b[38;5;28;01mif\u001b[39;00m data_dict[\u001b[38;5;124m'\u001b[39m\u001b[38;5;124minputs\u001b[39m\u001b[38;5;124m'\u001b[39m]\u001b[38;5;241m.\u001b[39mshape[\u001b[38;5;241m0\u001b[39m] \u001b[38;5;241m>\u001b[39m \u001b[38;5;241m1\u001b[39m:\n\u001b[0;32m      5\u001b[0m         visualize_pku_batch_sample(data_dict, sample_idx\u001b[38;5;241m=\u001b[39m\u001b[38;5;241m1\u001b[39m, title\u001b[38;5;241m=\u001b[39m\u001b[38;5;124m\"\u001b[39m\u001b[38;5;124msample 1\u001b[39m\u001b[38;5;124m\"\u001b[39m)\n",
      "Cell \u001b[1;32mIn[137], line 17\u001b[0m, in \u001b[0;36mvisualize_pku_batch_sample\u001b[1;34m(data_dict, sample_idx, title)\u001b[0m\n\u001b[0;32m     14\u001b[0m row \u001b[38;5;241m=\u001b[39m idx \u001b[38;5;241m/\u001b[39m\u001b[38;5;241m/\u001b[39m \u001b[38;5;241m4\u001b[39m\n\u001b[0;32m     15\u001b[0m col \u001b[38;5;241m=\u001b[39m idx \u001b[38;5;241m%\u001b[39m \u001b[38;5;241m4\u001b[39m\n\u001b[1;32m---> 17\u001b[0m frame \u001b[38;5;241m=\u001b[39m \u001b[43msample_inputs\u001b[49m\u001b[43m[\u001b[49m\u001b[43m:\u001b[49m\u001b[43m,\u001b[49m\u001b[43m \u001b[49m\u001b[43mframe_idx\u001b[49m\u001b[43m,\u001b[49m\u001b[43m \u001b[49m\u001b[43m:\u001b[49m\u001b[43m,\u001b[49m\u001b[43m \u001b[49m\u001b[43m:\u001b[49m\u001b[43m,\u001b[49m\u001b[43m \u001b[49m\u001b[43m:\u001b[49m\u001b[43m]\u001b[49m\u001b[38;5;241;43m.\u001b[39;49m\u001b[43mpermute\u001b[49m\u001b[43m(\u001b[49m\u001b[38;5;241;43m1\u001b[39;49m\u001b[43m,\u001b[49m\u001b[43m \u001b[49m\u001b[38;5;241;43m2\u001b[39;49m\u001b[43m,\u001b[49m\u001b[43m \u001b[49m\u001b[38;5;241;43m0\u001b[39;49m\u001b[43m)\u001b[49m\u001b[38;5;241m.\u001b[39mnumpy()\n\u001b[0;32m     19\u001b[0m frame \u001b[38;5;241m=\u001b[39m (frame \u001b[38;5;241m*\u001b[39m \u001b[38;5;241m255\u001b[39m)\u001b[38;5;241m.\u001b[39mastype(np\u001b[38;5;241m.\u001b[39muint8)\n\u001b[0;32m     20\u001b[0m \u001b[38;5;28;01mimport\u001b[39;00m\u001b[38;5;250m \u001b[39m\u001b[38;5;21;01mcv2\u001b[39;00m\n",
      "\u001b[1;31mRuntimeError\u001b[0m: permute(sparse_coo): number of dimensions in the tensor input does not match the length of the desired ordering of dimensions i.e. input.dim() = 4 is not equal to len(dims) = 3"
     ]
    },
    {
     "data": {
      "image/png": "[encoded data removed]",
      "text/plain": [
       "<Figure size 1600x800 with 8 Axes>"
      ]
     },
     "metadata": {},
     "output_type": "display_data"
    }
   ],
   "source": [
    "if 'data_dict' in locals():\n",
    "    visualize_pku_batch_sample(data_dict, sample_idx=0, title=\"sample 0\")\n",
    "\n",
    "    if data_dict['inputs'].shape[0] > 1:\n",
    "        visualize_pku_batch_sample(data_dict, sample_idx=1, title=\"sample 1\")\n",
    "\n",
    "else:\n",
    "    print(\"no batch data\")"
   ]
  }
 ],
 "metadata": {
  "kernelspec": {
   "display_name": ".venv",
   "language": "python",
   "name": "python3"
  },
  "language_info": {
   "codemirror_mode": {
    "name": "ipython",
    "version": 3
   },
   "file_extension": ".py",
   "mimetype": "text/x-python",
   "name": "python",
   "nbconvert_exporter": "python",
   "pygments_lexer": "ipython3",
   "version": "3.10.0"
  }
 },
 "nbformat": 4,
 "nbformat_minor": 5
}
